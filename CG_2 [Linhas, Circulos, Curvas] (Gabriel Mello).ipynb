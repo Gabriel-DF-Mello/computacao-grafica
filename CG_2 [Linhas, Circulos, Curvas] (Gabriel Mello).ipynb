{
 "cells": [
  {
   "cell_type": "code",
   "execution_count": 1,
   "metadata": {},
   "outputs": [],
   "source": [
    "import math\n",
    "import random"
   ]
  },
  {
   "cell_type": "code",
   "execution_count": 1,
   "metadata": {},
   "outputs": [],
   "source": [
    "# Exercício 1:\n",
    "def DDA(p0, p1):\n",
    "    points = []\n",
    "    deltaX = p1[0]- p0[0]\n",
    "    deltaY = p1[1] - p0[1]\n",
    "\n",
    "    if deltaX == 0: #se deltaX for 0, é uma reta vertical\n",
    "        #print(\"A reta é vertical\")\n",
    "        y = p0[1]\n",
    "        while y <= p1[1]:\n",
    "            print(p0[0],\" , \",y)\n",
    "            #points.append([p0[0], y])\n",
    "            y = y+1\n",
    "\n",
    "    else: #não é uma reta vertical, logo, calculamos a equação da reta\n",
    "        m = deltaY/deltaX\n",
    "        b = p0[1] - m*p0[0]\n",
    "        #print(\"m = \",m)\n",
    "        #print(\"b = \",b)\n",
    "\n",
    "        x = p0[0]\n",
    "        y = p0[1]\n",
    "        if m <= 1: #a reta está mais deitada, logo, o x cresce mais rápido do que o y\n",
    "            #print(\"A reta está mais deitada\")\n",
    "            while(x <= p1[0]):\n",
    "                print(x,\" , \",round(y))\n",
    "                #points.append([x, round(y)])\n",
    "                x = x + 1 #𝒙𝒌+𝟏 = 𝒙𝒌 + 𝟏;\n",
    "                y = y + m #𝒚𝒌+𝟏 = 𝒚𝒌 + 𝒎;\n",
    "\n",
    "        elif m > 1: #a reta está mais de pé, logo, o y cresce mais rápido do que o x\n",
    "            #print(\"A reta está mais de pé\")\n",
    "            while(y <= p1[1]):\n",
    "                print(round(x),\" , \",y)\n",
    "                #points.append([round(x), y])\n",
    "                x = x + 1/m #𝒙𝒌+𝟏 = 𝒙𝒌 +𝟏/𝒎;\n",
    "                y = y + 1 #𝒚𝒌+𝟏 = 𝒚𝒌 + 𝟏;\n",
    "    return points"
   ]
  },
  {
   "cell_type": "code",
   "execution_count": 2,
   "metadata": {},
   "outputs": [
    {
     "name": "stdout",
     "output_type": "stream",
     "text": [
      "0  ,  0\n",
      "1  ,  0\n",
      "2  ,  0\n",
      "3  ,  1\n",
      "4  ,  1\n",
      "5  ,  1\n",
      "6  ,  2\n",
      "7  ,  2\n",
      "8  ,  2\n"
     ]
    },
    {
     "data": {
      "text/plain": [
       "[]"
      ]
     },
     "execution_count": 2,
     "metadata": {},
     "output_type": "execute_result"
    }
   ],
   "source": [
    "DDA([0,0], [8,2])"
   ]
  },
  {
   "cell_type": "code",
   "execution_count": 3,
   "metadata": {},
   "outputs": [],
   "source": [
    "# Exercício 1:\n",
    "def arestas(p0, p1, p2):\n",
    "    print('Os pontos da aresta entre p0 e p1 sao:')\n",
    "    DDA(p0, p1)\n",
    "    print('Os pontos da aresta entre p0 e p2 sao:')\n",
    "    DDA(p0, p2)\n",
    "    print('Os pontos da aresta entre p1 e p2 sao:')\n",
    "    DDA(p1, p2)\n",
    "    "
   ]
  },
  {
   "cell_type": "code",
   "execution_count": 4,
   "metadata": {},
   "outputs": [
    {
     "name": "stdout",
     "output_type": "stream",
     "text": [
      "Os pontos da aresta entre p0 e p1 sao:\n",
      "1  ,  1\n",
      "2  ,  2\n",
      "2  ,  3\n",
      "Os pontos da aresta entre p0 e p2 sao:\n",
      "1  ,  1\n",
      "2  ,  2\n",
      "3  ,  3\n",
      "4  ,  4\n",
      "5  ,  5\n",
      "Os pontos da aresta entre p1 e p2 sao:\n",
      "2  ,  3\n",
      "3  ,  4\n",
      "4  ,  4\n",
      "5  ,  5\n"
     ]
    }
   ],
   "source": [
    "# Exercício 1:\n",
    "arestas([1,1], [2,3], [5,5])"
   ]
  },
  {
   "cell_type": "code",
   "execution_count": 5,
   "metadata": {},
   "outputs": [],
   "source": [
    " def aplicar(point, matriz):\n",
    "        p = [point[0], point[1], 1]\n",
    "        res = [0, 0, 0]\n",
    "        \n",
    "        for i in range(0, 3):\n",
    "            for j in range(0, 3):\n",
    "                res[i] = res[i] + (matriz[i][j] * p[j])\n",
    "                \n",
    "        ponto = [res[0], res[1]]\n",
    "        return ponto"
   ]
  },
  {
   "cell_type": "code",
   "execution_count": 6,
   "metadata": {},
   "outputs": [],
   "source": [
    "# Exercício 2:\n",
    "def circulo(origem, raio):\n",
    "    points = []\n",
    "    x = 0;\n",
    "    limite = raio * math.cos(math.radians(45))\n",
    "    \n",
    "    print(limite)\n",
    "\n",
    "    while x<=limite:\n",
    "        y = math.sqrt(raio*raio - x*x) #y de \"cima\"\n",
    "        yArred = round(y) #y arredondado para não precisar usar o round toda vez que dermos um print\n",
    "        points.append([x, yArred]);\n",
    "        points.append([yArred, x])\n",
    "        points.append([yArred, -x])\n",
    "        points.append([x, -yArred])\n",
    "        points.append([-x, -yArred])\n",
    "        points.append([-yArred, -x])\n",
    "        points.append([-yArred, x])\n",
    "        points.append([-x, yArred]);\n",
    "        x+=1\n",
    "    translacao = [[1, 0, origem[0]], [0, 1, origem[1]], [0, 0, 1]]\n",
    "    for i in range(0, len(points)):\n",
    "        points[i] = aplicar(points[i], translacao)\n",
    "    return points"
   ]
  },
  {
   "cell_type": "code",
   "execution_count": 7,
   "metadata": {},
   "outputs": [
    {
     "name": "stdout",
     "output_type": "stream",
     "text": [
      "1.4142135623730951\n",
      "[[2, 5], [4, 3], [4, 3], [2, 1], [2, 1], [0, 3], [0, 3], [2, 5], [3, 5], [4, 4], [4, 2], [3, 1], [1, 1], [0, 2], [0, 4], [1, 5]]\n"
     ]
    }
   ],
   "source": [
    "# Exercício 2:\n",
    "print(circulo([2, 3], 2))"
   ]
  },
  {
   "cell_type": "code",
   "execution_count": 8,
   "metadata": {},
   "outputs": [
    {
     "name": "stdout",
     "output_type": "stream",
     "text": [
      "3.5355339059327378\n",
      "[[0, 5], [5, 0], [5, 0], [0, -5], [0, -5], [-5, 0], [-5, 0], [0, 5], [1, 5], [5, 1], [5, -1], [1, -5], [-1, -5], [-5, -1], [-5, 1], [-1, 5], [2, 5], [5, 2], [5, -2], [2, -5], [-2, -5], [-5, -2], [-5, 2], [-2, 5], [3, 4], [4, 3], [4, -3], [3, -4], [-3, -4], [-4, -3], [-4, 3], [-3, 4]]\n"
     ]
    }
   ],
   "source": [
    "print(circulo([0,0], 5))"
   ]
  },
  {
   "cell_type": "code",
   "execution_count": 9,
   "metadata": {},
   "outputs": [],
   "source": [
    "# Exercicio 3:\n",
    "def dentroCirculo(ponto, raio):\n",
    "    lim = raio ** 2\n",
    "    soma = (ponto[0] ** 2) + (ponto[1] ** 2)\n",
    "    if(soma <= lim):\n",
    "        return True\n",
    "    return False"
   ]
  },
  {
   "cell_type": "code",
   "execution_count": 10,
   "metadata": {},
   "outputs": [
    {
     "data": {
      "text/plain": [
       "True"
      ]
     },
     "execution_count": 10,
     "metadata": {},
     "output_type": "execute_result"
    }
   ],
   "source": [
    "# Exercício 3:\n",
    "dentroCirculo([3, 4], 5)"
   ]
  },
  {
   "cell_type": "code",
   "execution_count": 11,
   "metadata": {},
   "outputs": [],
   "source": [
    "# Exercício 4:\n",
    "def bezier(P, num):\n",
    "    t = 0\n",
    "    while t<=1:\n",
    "    #para calcular o x, utitliza-se o x dos pontos de controle\n",
    "        x = (1-t)*(1-t)*(1-t)*P[0][0] + 3*(1-t)*(1-t)*t*P[1][0] + 3*(1-t)*t*t*P[2][0] + t*t*t*P[3][0]\n",
    "\n",
    "        #para calcular o y, utitliza-se o y dos pontos de controle\n",
    "        y = (1-t)*(1-t)*(1-t)*P[0][1] + 3*(1-t)*(1-t)*t*P[1][1] + 3*(1-t)*t*t*P[2][1] + t*t*t*P[3][1]\n",
    "\n",
    "        #mostra o ponto na tela\n",
    "        print(\"(\",(x),\",\",(y),\")\")\n",
    "        #incrementa o t em uma certa quantia que, quanto menor, mais pontos serão gerados.\n",
    "        t +=(1/num)"
   ]
  },
  {
   "cell_type": "code",
   "execution_count": 12,
   "metadata": {},
   "outputs": [],
   "source": [
    "# Exercício 4:\n",
    "def lista():\n",
    "    randomlist = []\n",
    "    first = []\n",
    "    for i in range(0,12):\n",
    "        x = random.randint(-60,60)\n",
    "        y = random.randint(-60,60)\n",
    "        if(i == 0):\n",
    "            first = [x, y]\n",
    "        randomlist.append([x, y])\n",
    "    randomlist.append(first)\n",
    "    return randomlist"
   ]
  },
  {
   "cell_type": "code",
   "execution_count": 14,
   "metadata": {},
   "outputs": [],
   "source": [
    "# Exercício 4:\n",
    "def display(l):\n",
    "    print(l[0:4])\n",
    "    print(l[3:7])\n",
    "    print(l[6:10])\n",
    "    print(l[9:13])\n",
    "    print()"
   ]
  },
  {
   "cell_type": "code",
   "execution_count": 15,
   "metadata": {},
   "outputs": [],
   "source": [
    "# Exercício 4:\n",
    "def curvas_4(l, num):   \n",
    "    display(l)\n",
    "    \n",
    "    bezier(l[0:4], num)\n",
    "    print()\n",
    "    bezier(l[3:7], num)\n",
    "    print()\n",
    "    bezier(l[6:10], num)\n",
    "    print()\n",
    "    bezier(l[9:13], num)\n",
    "    print()"
   ]
  },
  {
   "cell_type": "code",
   "execution_count": 16,
   "metadata": {},
   "outputs": [
    {
     "name": "stdout",
     "output_type": "stream",
     "text": [
      "[[-4, -27], [22, 29], [20, -41], [-56, 51]]\n",
      "[[-56, 51], [34, -50], [39, 47], [35, 10]]\n",
      "[[35, 10], [0, -4], [-34, 5], [-19, -35]]\n",
      "[[-19, -35], [-22, 28], [0, -37], [-4, -27]]\n",
      "\n",
      "( -4 , -27 )\n",
      "( 2.9139999999999997 , -13.692000000000002 )\n",
      "( 7.872000000000002 , -6.216000000000002 )\n",
      "( 10.598 , -2.8439999999999985 )\n",
      "( 10.815999999999995 , -1.8480000000000003 )\n",
      "( 8.25 , -1.5 )\n",
      "( 2.6240000000000006 , -0.0720000000000045 )\n",
      "( -6.337999999999996 , 4.163999999999996 )\n",
      "( -18.911999999999992 , 12.935999999999993 )\n",
      "( -35.37399999999998 , 27.97199999999998 )\n",
      "( -55.99999999999997 , 50.99999999999997 )\n",
      "\n",
      "( -56 , 51 )\n",
      "( -31.474000000000004 , 26.308000000000003 )\n",
      "( -11.592000000000002 , 11.504 )\n",
      "( 4.1020000000000065 , 4.595999999999996 )\n",
      "( 16.064 , 3.592000000000002 )\n",
      "( 24.75 , 6.5 )\n",
      "( 30.616000000000003 , 11.328000000000001 )\n",
      "( 34.117999999999995 , 16.083999999999996 )\n",
      "( 35.712 , 18.775999999999996 )\n",
      "( 35.854 , 17.412000000000006 )\n",
      "( 35.0 , 10.000000000000012 )\n",
      "\n",
      "( 35 , 10 )\n",
      "( 24.578000000000007 , 6.418 )\n",
      "( 14.504000000000005 , 3.7840000000000007 )\n",
      "( 5.065999999999996 , 1.665999999999999 )\n",
      "( -3.4480000000000004 , -0.3680000000000003 )\n",
      "( -10.75 , -2.75 )\n",
      "( -16.552000000000003 , -5.911999999999999 )\n",
      "( -20.565999999999995 , -10.285999999999998 )\n",
      "( -22.503999999999998 , -16.304 )\n",
      "( -22.078000000000003 , -24.39799999999999 )\n",
      "( -19.000000000000004 , -34.999999999999986 )\n",
      "\n",
      "( -19 , -35 )\n",
      "( -19.201000000000004 , -19.737000000000005 )\n",
      "( -18.208000000000002 , -10.936000000000003 )\n",
      "( -16.326999999999998 , -7.378999999999998 )\n",
      "( -13.863999999999997 , -7.848000000000001 )\n",
      "( -11.125 , -11.125 )\n",
      "( -8.416 , -15.992 )\n",
      "( -6.043 , -21.230999999999995 )\n",
      "( -4.312000000000001 , -25.624 )\n",
      "( -3.529 , -27.952999999999996 )\n",
      "( -3.9999999999999987 , -27.0 )\n",
      "\n"
     ]
    }
   ],
   "source": [
    "# Exercício 4:\n",
    "l = lista()\n",
    "curvas_4(l, 10)"
   ]
  },
  {
   "cell_type": "code",
   "execution_count": 21,
   "metadata": {},
   "outputs": [],
   "source": [
    "# Inputs\n",
    "\n",
    "def exercicio_1():\n",
    "    pontos = []\n",
    "    for i in range(0,3):\n",
    "        x = int(input(f\"digite a cordenada x do ponto {i}: \"))\n",
    "        y = int(input(f\"digite a cordenada y do ponto {i}: \"))\n",
    "        pontos.append([x, y])\n",
    "    arestas(pontos[0], pontos[1], pontos[2])\n",
    "    \n",
    "def exercicio_2():\n",
    "    x = int(input(f\"digite a cordenada x do ponto de origem: \"))\n",
    "    y = int(input(f\"digite a cordenada y do ponto de origem: \"))\n",
    "    r = float(input(f\"digite a cordenada o raio do círculo: \"))\n",
    "    \n",
    "    print(circulo([x, y], r))\n",
    "\n",
    "def exercicio_3():\n",
    "    r = float(input(f\"digite a cordenada o raio do círculo: \"))\n",
    "    x = float(input(f\"digite a cordenada x do ponto: \"))\n",
    "    y = float(input(f\"digite a cordenada y do ponto: \"))\n",
    "    \n",
    "    print(dentroCirculo([x, y], r))\n",
    "    \n",
    "def exercicio_4():\n",
    "    num = int(input(f\"digite o numero de pontos por curva: \"))\n",
    "    l = lista()\n",
    "    curvas_4(l, num)"
   ]
  },
  {
   "cell_type": "code",
   "execution_count": 22,
   "metadata": {},
   "outputs": [
    {
     "name": "stdout",
     "output_type": "stream",
     "text": [
      "digite a cordenada x do ponto 01\n",
      "digite a cordenada y do ponto 02\n",
      "digite a cordenada x do ponto 13\n",
      "digite a cordenada y do ponto 14\n",
      "digite a cordenada x do ponto 25\n",
      "digite a cordenada y do ponto 26\n",
      "Os pontos da aresta entre p0 e p1 sao:\n",
      "1  ,  2\n",
      "2  ,  3\n",
      "3  ,  4\n",
      "Os pontos da aresta entre p0 e p2 sao:\n",
      "1  ,  2\n",
      "2  ,  3\n",
      "3  ,  4\n",
      "4  ,  5\n",
      "5  ,  6\n",
      "Os pontos da aresta entre p1 e p2 sao:\n",
      "3  ,  4\n",
      "4  ,  5\n",
      "5  ,  6\n"
     ]
    }
   ],
   "source": [
    "exercicio_1()"
   ]
  },
  {
   "cell_type": "code",
   "execution_count": 23,
   "metadata": {},
   "outputs": [
    {
     "name": "stdout",
     "output_type": "stream",
     "text": [
      "digite a cordenada x do ponto de origem4\n",
      "digite a cordenada y do ponto de origem5\n",
      "digite a cordenada o raio do círculo6\n",
      "4.242640687119286\n",
      "[[4, 11], [10, 5], [10, 5], [4, -1], [4, -1], [-2, 5], [-2, 5], [4, 11], [5, 11], [10, 6], [10, 4], [5, -1], [3, -1], [-2, 4], [-2, 6], [3, 11], [6, 11], [10, 7], [10, 3], [6, -1], [2, -1], [-2, 3], [-2, 7], [2, 11], [7, 10], [9, 8], [9, 2], [7, 0], [1, 0], [-1, 2], [-1, 8], [1, 10], [8, 9], [8, 9], [8, 1], [8, 1], [0, 1], [0, 1], [0, 9], [0, 9]]\n"
     ]
    }
   ],
   "source": [
    "exercicio_2()"
   ]
  },
  {
   "cell_type": "code",
   "execution_count": 24,
   "metadata": {},
   "outputs": [
    {
     "name": "stdout",
     "output_type": "stream",
     "text": [
      "digite a cordenada o raio do círculo5\n",
      "digite a cordenada x do ponto1\n",
      "digite a cordenada y do ponto2\n",
      "True\n"
     ]
    }
   ],
   "source": [
    "exercicio_3()"
   ]
  },
  {
   "cell_type": "code",
   "execution_count": 25,
   "metadata": {},
   "outputs": [
    {
     "name": "stdout",
     "output_type": "stream",
     "text": [
      "digite o numero de pontos por curva6\n",
      "[[54, -31], [-7, -10], [25, -11], [-59, 0]]\n",
      "[[-59, 0], [56, -52], [-56, 20], [-6, 22]]\n",
      "[[-6, 22], [18, -18], [53, -50], [33, -20]]\n",
      "[[33, -20], [-18, 3], [-22, -22], [54, -31]]\n",
      "\n",
      "( 54 , -31 )\n",
      "( 30.282407407407412 , -22.17592592592593 )\n",
      "( 16.259259259259267 , -16.074074074074076 )\n",
      "( 6.125 , -11.75 )\n",
      "( -5.925925925925926 , -8.25925925925926 )\n",
      "( -25.69907407407406 , -4.657407407407409 )\n",
      "( -58.99999999999997 , -3.663735981263016e-15 )\n",
      "\n",
      "( -59 , 0 )\n",
      "( -18.61574074074075 , -16.564814814814813 )\n",
      "( -5.259259259259264 , -17.85185185185186 )\n",
      "( -8.125 , -9.25 )\n",
      "( -16.407407407407405 , 3.8518518518518503 )\n",
      "( -19.300925925925927 , 16.06481481481481 )\n",
      "( -6.000000000000017 , 22.0 )\n",
      "\n",
      "( -6 , 22 )\n",
      "( 6.61111111111111 , 2.91666666666667 )\n",
      "( 19.22222222222222 , -13.33333333333333 )\n",
      "( 30.0 , -25.25 )\n",
      "( 37.11111111111111 , -31.33333333333333 )\n",
      "( 38.72222222222222 , -30.083333333333332 )\n",
      "( 33.0 , -20.00000000000001 )\n",
      "\n",
      "( 33 , -20 )\n",
      "( 11.569444444444448 , -12.203703703703706 )\n",
      "( -1.111111111111108 , -10.62962962962963 )\n",
      "( -4.125 , -13.5 )\n",
      "( 3.4444444444444464 , -19.037037037037038 )\n",
      "( 22.513888888888875 , -25.462962962962962 )\n",
      "( 53.99999999999997 , -30.999999999999996 )\n",
      "\n"
     ]
    }
   ],
   "source": [
    "exercicio_4()"
   ]
  },
  {
   "cell_type": "code",
   "execution_count": null,
   "metadata": {},
   "outputs": [],
   "source": []
  }
 ],
 "metadata": {
  "kernelspec": {
   "display_name": "Python 3",
   "language": "python",
   "name": "python3"
  },
  "language_info": {
   "codemirror_mode": {
    "name": "ipython",
    "version": 3
   },
   "file_extension": ".py",
   "mimetype": "text/x-python",
   "name": "python",
   "nbconvert_exporter": "python",
   "pygments_lexer": "ipython3",
   "version": "3.6.5"
  }
 },
 "nbformat": 4,
 "nbformat_minor": 2
}
